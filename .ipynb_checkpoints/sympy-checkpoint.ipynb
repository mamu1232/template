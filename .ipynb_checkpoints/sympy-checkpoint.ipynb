{
 "cells": [
  {
   "cell_type": "code",
   "execution_count": 1,
   "metadata": {},
   "outputs": [
    {
     "name": "stdout",
     "output_type": "stream",
     "text": [
      "IPython console for SymPy 1.4 (Python 3.7.3-64-bit) (ground types: python)\n",
      "\n",
      "These commands were executed:\n",
      ">>> from __future__ import division\n",
      ">>> from sympy import *\n",
      ">>> x, y, z, t = symbols('x y z t')\n",
      ">>> k, m, n = symbols('k m n', integer=True)\n",
      ">>> f, g, h = symbols('f g h', cls=Function)\n",
      ">>> init_printing()\n",
      "\n",
      "Documentation can be found at https://docs.sympy.org/1.4/\n",
      "\n",
      "\\frac{3 \\pi}{2} + \\frac{e^{i x_{1}}}{x_{1}^{2} + y}\n"
     ]
    },
    {
     "data": {
      "text/latex": [
       "$\\displaystyle \\frac{3 \\pi}{2} + \\frac{e^{i x_{1}}}{x_{1}^{2} + y}$"
      ],
      "text/plain": [
       "        ⅈ⋅x₁ \n",
       "3⋅π    ℯ     \n",
       "─── + ───────\n",
       " 2      2    \n",
       "      x₁  + y"
      ]
     },
     "metadata": {},
     "output_type": "display_data"
    }
   ],
   "source": [
    "from sympy import *\n",
    "from IPython.display import display\n",
    "init_session(use_latex='mathjax')\n",
    "x,y = symbols('x_1,y')\n",
    "f0 = Symbol('f(x,y)')\n",
    "f= Rational(3 ,2)*pi + exp(I*x) / (x**2 + y)\n",
    "print(latex(f))\n",
    "display(f)"
   ]
  },
  {
   "cell_type": "code",
   "execution_count": 23,
   "metadata": {},
   "outputs": [
    {
     "data": {
      "image/png": "[encoded data removed]",
      "text/latex": [
       "$$\\frac{\\sqrt{2} \\left(- e^{a} \\sin{\\left (a + \\frac{\\pi}{4} \\right )} + e^{b} \\sin{\\left (b + \\frac{\\pi}{4} \\right )}\\right)}{2}$$"
      ],
      "text/plain": [
       "   ⎛   a    ⎛    π⎞    b    ⎛    π⎞⎞\n",
       "√2⋅⎜- ℯ ⋅sin⎜a + ─⎟ + ℯ ⋅sin⎜b + ─⎟⎟\n",
       "   ⎝        ⎝    4⎠         ⎝    4⎠⎠\n",
       "────────────────────────────────────\n",
       "                 2                  "
      ]
     },
     "metadata": {},
     "output_type": "display_data"
    },
    {
     "name": "stdout",
     "output_type": "stream",
     "text": [
      "\\frac{\\sqrt{2} \\left(- e^{a} \\sin{\\left (a + \\frac{\\pi}{4} \\right )} + e^{b} \\sin{\\left (b + \\frac{\\pi}{4} \\right )}\\right)}{2}\n"
     ]
    }
   ],
   "source": [
    "sympy.var(\"a b x y\")\n",
    "f = sympy.exp(x) * sympy.cos(x)\n",
    "# f(x)をaからbまでxで積分する\n",
    "i = sympy.integrate(f, (x, a, b))\n",
    "# 数式をまとめる（整理する）\n",
    "i = sympy.simplify(i)\n",
    "display(i)\n",
    "print(sympy.latex(i))"
   ]
  },
  {
   "cell_type": "code",
   "execution_count": 24,
   "metadata": {},
   "outputs": [
    {
     "name": "stdout",
     "output_type": "stream",
     "text": [
      "sqrt(2)*(-E*sin(pi/4 + 1) + exp(2)*sin(pi/4 + 2))/2\n"
     ]
    }
   ],
   "source": [
    "print(i.subs([(a, 1), (b, 2)]))"
   ]
  },
  {
   "cell_type": "code",
   "execution_count": 25,
   "metadata": {},
   "outputs": [
    {
     "data": {
      "image/png": "[encoded data removed]",
      "text/latex": [
       "$$e$$"
      ],
      "text/plain": [
       "ℯ"
      ]
     },
     "execution_count": 25,
     "metadata": {},
     "output_type": "execute_result"
    }
   ],
   "source": [
    "limit((1+x) ** (1/x), x,  0)"
   ]
  },
  {
   "cell_type": "code",
   "execution_count": 38,
   "metadata": {},
   "outputs": [
    {
     "data": {
      "image/png": "[encoded data removed]",
      "text/latex": [
       "$$\\frac{d^{2}}{d x^{2}} x^{2} = 2$$"
      ],
      "text/plain": [
       "  2        \n",
       " d ⎛ 2⎞    \n",
       "───⎝x ⎠ = 2\n",
       "  2        \n",
       "dx         "
      ]
     },
     "metadata": {},
     "output_type": "display_data"
    },
    {
     "name": "stdout",
     "output_type": "stream",
     "text": [
      "\\frac{d}{d x} x^{2} = 2 x\n"
     ]
    }
   ],
   "source": [
    "y=x**2\n",
    "display(Eq(Derivative(y,x,2),Derivative(y,x,2).doit()))\n",
    "print(latex(Eq(Derivative(y),Derivative(y).doit())))"
   ]
  },
  {
   "cell_type": "code",
   "execution_count": 43,
   "metadata": {},
   "outputs": [
    {
     "data": {
      "image/png": "[encoded data removed]",
      "text/latex": [
       "$$\\frac{d}{d x} f{\\left (x \\right )}$$"
      ],
      "text/plain": [
       "d       \n",
       "──(f(x))\n",
       "dx      "
      ]
     },
     "execution_count": 43,
     "metadata": {},
     "output_type": "execute_result"
    }
   ],
   "source": [
    "f=Function('f')(x)\n",
    "g=Function('g')(x)\n",
    "Derivative(f)"
   ]
  }
 ],
 "metadata": {
  "kernelspec": {
   "display_name": "Python 3",
   "language": "python",
   "name": "python3"
  },
  "language_info": {
   "codemirror_mode": {
    "name": "ipython",
    "version": 3
   },
   "file_extension": ".py",
   "mimetype": "text/x-python",
   "name": "python",
   "nbconvert_exporter": "python",
   "pygments_lexer": "ipython3",
   "version": "3.7.4"
  }
 },
 "nbformat": 4,
 "nbformat_minor": 4
}
