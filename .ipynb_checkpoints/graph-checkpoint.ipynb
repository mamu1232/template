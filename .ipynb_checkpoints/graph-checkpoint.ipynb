{
 "cells": [
  {
   "cell_type": "markdown",
   "metadata": {},
   "source": [
    "# plotly subplot"
   ]
  },
  {
   "cell_type": "code",
   "execution_count": 16,
   "metadata": {},
   "outputs": [
    {
     "data": {
      "application/vnd.jupyter.widget-view+json": {
       "model_id": "22e08ad65ab044d19241f5ffac3ad0df",
       "version_major": 2,
       "version_minor": 0
      },
      "text/plain": [
       "FigureWidget({\n",
       "    'data': [{'type': 'scatter',\n",
       "              'uid': '9d00c830-2c6d-4080-b9e2-fa7b74fb0338',\n",
       " …"
      ]
     },
     "metadata": {},
     "output_type": "display_data"
    }
   ],
   "source": [
    "import plotly.graph_objects as go\n",
    "from plotly.subplots import make_subplots\n",
    "import chart_studio.plotly as py\n",
    "import pandas as pd\n",
    "from time import sleep\n",
    "# k3iwyz4029 p9mr6mi1yg\n",
    "#fig=make_subplots(rows=2,cols=1,subplot_titles=(\"semi log\", \"linear\"))\n",
    "fig=go.FigureWidget(make_subplots(rows=2,cols=1,subplot_titles=(\"semi log\", \"linear\")))\n",
    "fig.add_trace(go.Scatter(x=[],y=[]),row=1,col=1)\n",
    "fig.add_trace(go.Scatter(x=[],y=[]),row=2,col=1)\n",
    "display(fig)"
   ]
  },
  {
   "cell_type": "code",
   "execution_count": 17,
   "metadata": {},
   "outputs": [
    {
     "ename": "KeyboardInterrupt",
     "evalue": "",
     "output_type": "error",
     "traceback": [
      "\u001b[1;31m---------------------------------------------------------------------------\u001b[0m",
      "\u001b[1;31mKeyboardInterrupt\u001b[0m                         Traceback (most recent call last)",
      "\u001b[1;32m<ipython-input-17-5887222978e5>\u001b[0m in \u001b[0;36m<module>\u001b[1;34m\u001b[0m\n\u001b[0;32m      1\u001b[0m \u001b[1;32mwhile\u001b[0m \u001b[1;32mTrue\u001b[0m\u001b[1;33m:\u001b[0m\u001b[1;33m\u001b[0m\u001b[1;33m\u001b[0m\u001b[0m\n\u001b[1;32m----> 2\u001b[1;33m     \u001b[0msleep\u001b[0m\u001b[1;33m(\u001b[0m\u001b[1;36m2\u001b[0m\u001b[1;33m)\u001b[0m\u001b[1;33m\u001b[0m\u001b[1;33m\u001b[0m\u001b[0m\n\u001b[0m\u001b[0;32m      3\u001b[0m     \u001b[0mdf\u001b[0m \u001b[1;33m=\u001b[0m \u001b[0mpd\u001b[0m\u001b[1;33m.\u001b[0m\u001b[0mread_excel\u001b[0m\u001b[1;33m(\u001b[0m\u001b[1;34m'test.xlsx'\u001b[0m\u001b[1;33m,\u001b[0m\u001b[0msheet_name\u001b[0m\u001b[1;33m=\u001b[0m\u001b[1;36m0\u001b[0m\u001b[1;33m,\u001b[0m\u001b[0mskiprows\u001b[0m\u001b[1;33m=\u001b[0m\u001b[1;36m0\u001b[0m\u001b[1;33m)\u001b[0m\u001b[1;33m\u001b[0m\u001b[1;33m\u001b[0m\u001b[0m\n\u001b[0;32m      4\u001b[0m     \u001b[0mx\u001b[0m\u001b[1;33m=\u001b[0m\u001b[0mdf\u001b[0m\u001b[1;33m[\u001b[0m\u001b[1;34m'x'\u001b[0m\u001b[1;33m]\u001b[0m\u001b[1;33m\u001b[0m\u001b[1;33m\u001b[0m\u001b[0m\n\u001b[0;32m      5\u001b[0m     \u001b[0my\u001b[0m\u001b[1;33m=\u001b[0m\u001b[0mdf\u001b[0m\u001b[1;33m[\u001b[0m\u001b[1;34m'y'\u001b[0m\u001b[1;33m]\u001b[0m\u001b[1;33m\u001b[0m\u001b[1;33m\u001b[0m\u001b[0m\n",
      "\u001b[1;31mKeyboardInterrupt\u001b[0m: "
     ]
    }
   ],
   "source": [
    "while True:\n",
    "    sleep(2)\n",
    "    df = pd.read_excel('test.xlsx',sheet_name=0,skiprows=0)\n",
    "    x=df['x']\n",
    "    y=df['y']\n",
    "    fig.data[0].x=x\n",
    "    fig.data[0].y=y\n",
    "    fig.data[1].x=x+2\n",
    "    fig.data[1].y=y*2\n",
    "    # fig.append_trace(go.Scatter(x=[2,3,4],y=[4,5,6],name='2'), row=2,col=1)\n",
    "    # fig.update_xaxes(title_text=r'$\\text{{電圧}} {}V\\text{{/V}}$',row=1,col=1,range=[0,10],type='log',exponentformat='power')\n",
    "    fig.update_xaxes(zerolinecolor='lightgray',rangemode='tozero'#rangemode='nonnegative'\n",
    "    #                  tickmode = 'array',\n",
    "    #                  tickvals = [1, 3, 5, 7, 9, 11],\n",
    "    #                  ticktext = ['One', 'Three', 'Five', 'Seven', 'Nine', 'Eleven']\n",
    "                )\n",
    "    fig.update_yaxes(zerolinecolor='lightgray')\n",
    "    fig.update_layout(height=300,title_text='Wow')\n",
    "    #     clear_output()\n",
    "# fig=make_subplots(rows=2,cols=1,subplot_titles=(\"semi log\", \"linear\"))\n",
    "# fig.append_trace(go.Scatter(x=[1,2,3],y=[5,6,7],name='1',mode='markers'), row=1,col=1)\n",
    "# fig\n",
    "#fig.write_image('test2.pdf')"
   ]
  },
  {
   "cell_type": "markdown",
   "metadata": {},
   "source": [
    "# フィッティング"
   ]
  },
  {
   "cell_type": "code",
   "execution_count": null,
   "metadata": {},
   "outputs": [],
   "source": [
    "import pandas as pd\n",
    "import numpy as np\n",
    "import matplotlib.pyplot as plt\n",
    "from scipy.optimize import curve_fit\n",
    "plt.style.use('seaborn-darkgrid')\n",
    "df = pd.read_excel('.xlsx', sheet_name=0,skiprows=0)\n",
    "def linear_fit(x, a):\n",
    "    return a*x \n",
    "fig, axes = plt.subplots(1,1,figsize=(10,6))\n",
    "Vd= df[].dropna()\n",
    "Id= df[].dropna()\n",
    "x=np.linspace(0,1.1*Vd.max(),1000)\n",
    "params, cov = curve_fit(linear_fit, Vd, Id)\n",
    "y_fit = linear_fit(x,*params)\n",
    "axes.plot(Vd, Id, 'bo', label=) \n",
    "axes.plot(x, y_fit, label=''+'$y={:.1f}x$'.format(*params)) \n",
    "axes.set_xlabel(\"\") \n",
    "axes.set_ylabel(\"\")\n",
    "axes.set_xlim(0,1.1*Vd.max())\n",
    "axes.set_ylim(0,1.1*Id.max())\n",
    "plt.legend(loc='lower right')\n",
    "plt.savefig('',bbox_inches=\"tight\")"
   ]
  },
  {
   "cell_type": "code",
   "execution_count": null,
   "metadata": {},
   "outputs": [],
   "source": [
    "import plotly.graph_objects as go\n",
    "from ipywidgets import interact\n",
    "fig = go.FigureWidget()\n",
    "scatter = fig.add_trace(go.Scatter(x=[i for i in range(len(r_list))],y=r_list))\n",
    "\n",
    "@interact(omega=(0, 2, 0.01))\n",
    "def update(omega=0.3):\n",
    "    #with fig.batch_update():\n",
    "    inv = np.linalg.inv(D+omega*L)\n",
    "    B= np.dot(inv,(1-omega)*D-omega*U)\n",
    "    c= np.dot(inv,omega*b)\n",
    "    x=np.full(len(c),10)\n",
    "    r_list =[]\n",
    "    a = [1.,2.,3.,4.,5.,4.,3.,2.,1.]\n",
    "    for k in range(10000):\n",
    "        x = np.dot(B,x) + c\n",
    "        r=0.0\n",
    "        for i in range(len(x)):\n",
    "            r+= (x[i]-a[i])**2\n",
    "        r_list.append(np.sqrt(r))\n",
    "    fig.data[0].y=r_list\n",
    "fig"
   ]
  },
  {
   "cell_type": "markdown",
   "metadata": {},
   "source": [
    "# テンプレート（複数図）"
   ]
  },
  {
   "cell_type": "code",
   "execution_count": null,
   "metadata": {},
   "outputs": [],
   "source": [
    "import pandas as pd\n",
    "import numpy as np\n",
    "import matplotlib.pyplot as plt\n",
    "plt.style.use('seaborn-darkgrid')\n",
    "# plt.rcParams[\"font.size\"] = 18\n",
    "df = pd.read_excel(\".xlsx\", skiprows=0,sheet_name=0)\n",
    "fig, axes = plt.subplots(2,2,figsize=(12,8))\n",
    "axes.ravel()[2].plot()\n",
    "axes.ravel()[2].set_xlabel(\"\")\n",
    "axes.ravel()[2].set_ylabel(\"\")\n",
    "axes.ravel()[2].legend(loc='upper left',)\n",
    "# axes.ravel()[].xlim(0,2.75)\n",
    "# axes.ravel()[].ylim(0,3)\n",
    "plt.savefig(\".pdf\", bbox_inches=\"tight\")"
   ]
  },
  {
   "cell_type": "markdown",
   "metadata": {},
   "source": [
    "# y軸2つ（twinx）"
   ]
  },
  {
   "cell_type": "code",
   "execution_count": null,
   "metadata": {},
   "outputs": [],
   "source": [
    "import matplotlib.pyplot as plt\n",
    "import matplotlib.cm as cm\n",
    "import numpy as np\n",
    "import seaborn as sns\n",
    "plt.style.use(\"seaborn-darkgrid\")\n",
    "fig = plt.figure()\n",
    "ax1 = fig.add_subplot(111)\n",
    "t = np.linspace(0.0,10.0,1000)\n",
    "fs = 1.0\n",
    "y1 = np.sin(2.0*np.pi*fs*t)\n",
    "ln1=ax1.plot(t, y1,label=r'$y=sin(2\\pi fst)$')\n",
    "\n",
    "ax2 = ax1.twinx()\n",
    "h1, l1 = ax1.get_legend_handles_labels()\n",
    "h2, l2 = ax2.get_legend_handles_labels()\n",
    "ax1.legend(h1+h2, l1+l2, loc='lower right')"
   ]
  },
  {
   "cell_type": "code",
   "execution_count": null,
   "metadata": {},
   "outputs": [],
   "source": []
  }
 ],
 "metadata": {
  "kernelspec": {
   "display_name": "Python 3",
   "language": "python",
   "name": "python3"
  },
  "language_info": {
   "codemirror_mode": {
    "name": "ipython",
    "version": 3
   },
   "file_extension": ".py",
   "mimetype": "text/x-python",
   "name": "python",
   "nbconvert_exporter": "python",
   "pygments_lexer": "ipython3",
   "version": "3.7.4"
  }
 },
 "nbformat": 4,
 "nbformat_minor": 4
}
